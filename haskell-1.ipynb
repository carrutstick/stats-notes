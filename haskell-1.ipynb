{
 "cells": [
  {
   "cell_type": "markdown",
   "metadata": {},
   "source": [
    "# Introduction to Functional Programming in Haskell"
   ]
  },
  {
   "cell_type": "markdown",
   "metadata": {},
   "source": [
    "## Haskell: What is it Good For?"
   ]
  },
  {
   "cell_type": "markdown",
   "metadata": {},
   "source": [
    "![](https://imgs.xkcd.com/comics/haskell.png)"
   ]
  },
  {
   "cell_type": "markdown",
   "metadata": {},
   "source": [
    " * Haskell is very different from most other programming languages.\n",
    " * Haskell is used in industry (Facebook, Jane Street, Standard Chartered...).\n",
    " * Haskell has some cool advantages in the world of parallel processing.\n",
    " * Where Haskell really excels is in *building abstractions* (blessing and a curse)."
   ]
  },
  {
   "cell_type": "markdown",
   "metadata": {},
   "source": [
    "## Equational Reasoning"
   ]
  },
  {
   "cell_type": "markdown",
   "metadata": {},
   "source": [
    " * Definitions in Haskell are actually that: definitions.\n",
    " * The rule is, if you have a definition **`LHS = RHS`**, then anywhere you see **`LHS`** in your code you can replace it with **`RHS`** and get the same result.\n",
    " * This means we cannot have multiple assignments of a variable in the same scope."
   ]
  },
  {
   "cell_type": "code",
   "execution_count": null,
   "metadata": {
    "collapsed": false
   },
   "outputs": [],
   "source": [
    "x = 1\n",
    "x"
   ]
  },
  {
   "cell_type": "code",
   "execution_count": null,
   "metadata": {
    "collapsed": false
   },
   "outputs": [],
   "source": [
    "x = 3\n",
    "x = 4\n",
    "x"
   ]
  },
  {
   "cell_type": "markdown",
   "metadata": {},
   "source": [
    "## Types"
   ]
  },
  {
   "cell_type": "markdown",
   "metadata": {},
   "source": [
    " * Every expression in Haskell has a **type**.\n",
    " * We read the code \"**`expr :: Type`**\" as \"expression **`expr`** has type **`Type`**\"."
   ]
  },
  {
   "cell_type": "code",
   "execution_count": null,
   "metadata": {
    "collapsed": false
   },
   "outputs": [],
   "source": [
    "x = 3 :: Int"
   ]
  },
  {
   "cell_type": "code",
   "execution_count": null,
   "metadata": {
    "collapsed": false
   },
   "outputs": [],
   "source": [
    ":t x"
   ]
  },
  {
   "cell_type": "code",
   "execution_count": null,
   "metadata": {
    "collapsed": false
   },
   "outputs": [],
   "source": [
    ":t (x, x)"
   ]
  },
  {
   "cell_type": "code",
   "execution_count": null,
   "metadata": {
    "collapsed": false
   },
   "outputs": [],
   "source": [
    ":t [x, x, x, x]"
   ]
  },
  {
   "cell_type": "code",
   "execution_count": null,
   "metadata": {
    "collapsed": false
   },
   "outputs": [],
   "source": [
    ":t fst (x, x)"
   ]
  },
  {
   "cell_type": "markdown",
   "metadata": {},
   "source": [
    "## Type Constraints"
   ]
  },
  {
   "cell_type": "code",
   "execution_count": null,
   "metadata": {
    "collapsed": false
   },
   "outputs": [],
   "source": [
    ":t 3"
   ]
  },
  {
   "cell_type": "code",
   "execution_count": null,
   "metadata": {
    "collapsed": false
   },
   "outputs": [],
   "source": [
    ":info Num"
   ]
  },
  {
   "cell_type": "markdown",
   "metadata": {},
   "source": [
    "## Function Types (Currying)"
   ]
  },
  {
   "cell_type": "code",
   "execution_count": null,
   "metadata": {
    "collapsed": false
   },
   "outputs": [],
   "source": [
    ":t (+)"
   ]
  },
  {
   "cell_type": "code",
   "execution_count": null,
   "metadata": {
    "collapsed": false
   },
   "outputs": [],
   "source": [
    ":t (+ x)"
   ]
  },
  {
   "cell_type": "code",
   "execution_count": null,
   "metadata": {
    "collapsed": false
   },
   "outputs": [],
   "source": [
    ":t x + x"
   ]
  },
  {
   "cell_type": "markdown",
   "metadata": {},
   "source": [
    "## Using Higher-Order Functions"
   ]
  },
  {
   "cell_type": "code",
   "execution_count": null,
   "metadata": {
    "collapsed": false
   },
   "outputs": [],
   "source": [
    ":t map"
   ]
  },
  {
   "cell_type": "code",
   "execution_count": null,
   "metadata": {
    "collapsed": false
   },
   "outputs": [],
   "source": [
    ":t map (+ x)"
   ]
  },
  {
   "cell_type": "code",
   "execution_count": null,
   "metadata": {
    "collapsed": false
   },
   "outputs": [],
   "source": [
    "map (+ 2) [1 .. 5]"
   ]
  },
  {
   "cell_type": "code",
   "execution_count": null,
   "metadata": {
    "collapsed": false
   },
   "outputs": [],
   "source": [
    ":t filter"
   ]
  },
  {
   "cell_type": "code",
   "execution_count": null,
   "metadata": {
    "collapsed": false
   },
   "outputs": [],
   "source": [
    "filter even [1..5]"
   ]
  },
  {
   "cell_type": "code",
   "execution_count": null,
   "metadata": {
    "collapsed": false
   },
   "outputs": [],
   "source": [
    ":t (.)"
   ]
  },
  {
   "cell_type": "code",
   "execution_count": null,
   "metadata": {
    "collapsed": false
   },
   "outputs": [],
   "source": [
    ":t filter (> 0) . map (+ x)"
   ]
  },
  {
   "cell_type": "code",
   "execution_count": null,
   "metadata": {
    "collapsed": false
   },
   "outputs": [],
   "source": [
    ":t foldl1"
   ]
  },
  {
   "cell_type": "code",
   "execution_count": null,
   "metadata": {
    "collapsed": false
   },
   "outputs": [],
   "source": [
    "foldl1 (+) [1..10]"
   ]
  },
  {
   "cell_type": "markdown",
   "metadata": {},
   "source": [
    "## Lazy Evaluation"
   ]
  },
  {
   "cell_type": "markdown",
   "metadata": {},
   "source": [
    "In a typical language, what happens when you evaluate something like this?\n",
    "\n",
    "**```\n",
    "x = (f(), g());\n",
    "return x[0];```**"
   ]
  },
  {
   "cell_type": "code",
   "execution_count": null,
   "metadata": {
    "collapsed": false
   },
   "outputs": [],
   "source": [
    ":t error"
   ]
  },
  {
   "cell_type": "code",
   "execution_count": null,
   "metadata": {
    "collapsed": false
   },
   "outputs": [],
   "source": [
    ":t error \"Fail!\""
   ]
  },
  {
   "cell_type": "code",
   "execution_count": null,
   "metadata": {
    "collapsed": false
   },
   "outputs": [],
   "source": [
    "error \"Fail!\""
   ]
  },
  {
   "cell_type": "code",
   "execution_count": null,
   "metadata": {
    "collapsed": false
   },
   "outputs": [],
   "source": [
    "(1, error \"Fail!\")"
   ]
  },
  {
   "cell_type": "code",
   "execution_count": null,
   "metadata": {
    "collapsed": false
   },
   "outputs": [],
   "source": [
    "fst (1, error \"Fail!\")"
   ]
  },
  {
   "cell_type": "markdown",
   "metadata": {},
   "source": [
    "All (well, most) values in Haskell are actually *promises* of a value.\n",
    "\n",
    "`(1 + 2 + 3 :: Int)` is not stored as a binary number, but as a *computation that will result in a number*."
   ]
  },
  {
   "cell_type": "markdown",
   "metadata": {},
   "source": [
    "## Some Fun Stuff: Infinite Sequences"
   ]
  },
  {
   "cell_type": "code",
   "execution_count": null,
   "metadata": {
    "collapsed": false
   },
   "outputs": [],
   "source": [
    "list = map (+ 3) [1..] :: [Int]"
   ]
  },
  {
   "cell_type": "code",
   "execution_count": null,
   "metadata": {
    "collapsed": false
   },
   "outputs": [],
   "source": [
    "take 4 list"
   ]
  },
  {
   "cell_type": "code",
   "execution_count": null,
   "metadata": {
    "collapsed": true
   },
   "outputs": [],
   "source": [
    "fib = 1 : 1 : zipWith (+) fib (tail fib)"
   ]
  },
  {
   "cell_type": "code",
   "execution_count": null,
   "metadata": {
    "collapsed": false
   },
   "outputs": [],
   "source": [
    "take 10 fib"
   ]
  },
  {
   "cell_type": "code",
   "execution_count": null,
   "metadata": {
    "collapsed": false
   },
   "outputs": [],
   "source": [
    "take 5 (drop 50 fib)"
   ]
  },
  {
   "cell_type": "markdown",
   "metadata": {},
   "source": [
    "## The Mathy Stuff: Functors"
   ]
  },
  {
   "cell_type": "markdown",
   "metadata": {},
   "source": [
    "**Functors** are a concept taken from category theory. Think of them as anything that holds another value of arbitrary type."
   ]
  },
  {
   "cell_type": "markdown",
   "metadata": {},
   "source": [
    "```haskell\n",
    "class Functor f where\n",
    "    fmap :: (a -> b) -> f a -> f b\n",
    "```"
   ]
  },
  {
   "cell_type": "code",
   "execution_count": null,
   "metadata": {
    "collapsed": true
   },
   "outputs": [],
   "source": [
    ":info Functor"
   ]
  },
  {
   "cell_type": "code",
   "execution_count": null,
   "metadata": {
    "collapsed": false
   },
   "outputs": [],
   "source": [
    "fmap (+2) [1,2,3,4]"
   ]
  },
  {
   "cell_type": "code",
   "execution_count": null,
   "metadata": {
    "collapsed": false
   },
   "outputs": [],
   "source": [
    "fmap (+2) (\"hello\", 2)"
   ]
  },
  {
   "cell_type": "code",
   "execution_count": null,
   "metadata": {
    "collapsed": false
   },
   "outputs": [],
   "source": [
    ":extension FlexibleContexts\n",
    "\n",
    "import Diagrams.Prelude\n",
    "import IHaskell.Display.Diagrams\n",
    "\n",
    "node s = text s <> circle 0.7\n",
    "box s = (translate (r2 (0.2, -0.2)) $\n",
    "                   atop (translate (r2 (-0.8, 0.6)) $ text \"F\") $\n",
    "                        node s)\n",
    "        <> square 2.5\n",
    "\n",
    "nodes = atPoints (trailVertices $ regPoly 4 6)\n",
    "                 [ box \"b\" # named \"bb\", node \"b\" # named \"nb\"\n",
    "                 , node \"a\" # named \"na\", box \"a\" # named \"ba\"]\n",
    "        # connectOutside \"na\" \"nb\"\n",
    "        # connectOutside \"na\" \"ba\"\n",
    "        # connectOutside \"ba\" \"bb\"\n",
    "        # connectOutside \"nb\" \"bb\"\n",
    "        <> translate (r2 (-2.4, 0)) (text \"F\" # fontSize large # font \"courier\")\n",
    "        <> translate (r2 ( 2.4, 0)) (text \"F\" # fontSize large # font \"courier\")\n",
    "        <> translate (r2 (0, -2.4)) (text \"fmap f\" # fontSize large # font \"courier\")\n",
    "        <> translate (r2 (0, 2.4)) (text \"f\" # fontSize large # font \"courier\")\n",
    "        <> square 10 # dashingG [0.2, 0.05] 0\n",
    "\n",
    "diagram nodes"
   ]
  },
  {
   "cell_type": "markdown",
   "metadata": {},
   "source": [
    "But Functors are not just \"containers\"!"
   ]
  },
  {
   "cell_type": "code",
   "execution_count": null,
   "metadata": {
    "collapsed": false
   },
   "outputs": [],
   "source": [
    ":t fmap (> 50) (^ 2)"
   ]
  },
  {
   "cell_type": "markdown",
   "metadata": {},
   "source": [
    "## Example: Writing our own List"
   ]
  },
  {
   "cell_type": "code",
   "execution_count": null,
   "metadata": {
    "collapsed": true
   },
   "outputs": [],
   "source": [
    "data List a = Cons a (List a)\n",
    "            | Nil\n",
    "    deriving (Show, Eq, Ord)"
   ]
  },
  {
   "cell_type": "code",
   "execution_count": null,
   "metadata": {
    "collapsed": false
   },
   "outputs": [],
   "source": [
    "y = Cons 1 (Cons 2 (Cons 3 Nil))\n",
    "y"
   ]
  },
  {
   "cell_type": "code",
   "execution_count": null,
   "metadata": {
    "collapsed": false
   },
   "outputs": [],
   "source": [
    "length :: List a -> Int\n",
    "length Nil = 0\n",
    "length (Cons _ l) = 1 + length l\n",
    "\n",
    "length y"
   ]
  },
  {
   "cell_type": "code",
   "execution_count": null,
   "metadata": {
    "collapsed": true
   },
   "outputs": [],
   "source": [
    "instance Functor List where\n",
    "    fmap f Nil = Nil\n",
    "    fmap f (Cons a l) = Cons (f a) (fmap f l)"
   ]
  },
  {
   "cell_type": "code",
   "execution_count": null,
   "metadata": {
    "collapsed": false
   },
   "outputs": [],
   "source": [
    "fmap (+3) y"
   ]
  },
  {
   "cell_type": "markdown",
   "metadata": {},
   "source": [
    "## The Dreaded `Monad`"
   ]
  },
  {
   "cell_type": "markdown",
   "metadata": {},
   "source": [
    "```haskell\n",
    "class Functor m => Monad m where\n",
    "    return :: a -> m a\n",
    "    (>>=) :: m a -> (a -> m b) -> m b\n",
    "    join :: m (m a) -> m a\n",
    "```"
   ]
  },
  {
   "cell_type": "code",
   "execution_count": null,
   "metadata": {
    "collapsed": false
   },
   "outputs": [],
   "source": [
    ":t r2"
   ]
  },
  {
   "cell_type": "code",
   "execution_count": null,
   "metadata": {
    "collapsed": false
   },
   "outputs": [],
   "source": [
    ":t dashingL"
   ]
  },
  {
   "cell_type": "code",
   "execution_count": null,
   "metadata": {
    "collapsed": false
   },
   "outputs": [],
   "source": [
    "dReturn = centerX (atPoints [P $ r2 (0, 0), P $ r2 (5, 0)]\n",
    "                            [node \"a\" # named \"a\", box \"a\" # named \"b\"])\n",
    "          # connectOutside \"a\" \"b\"\n",
    "          <> rect 9 3 # dashingG [0.2, 0.05] 0\n",
    "          <> translate (r2 (-3.1, 1.2)) (text \"return\" # font \"courier\" # fontSize large)\n",
    "          <> rect 10 3.5 # lc white\n",
    "\n",
    "bbox s = (translate (r2 (0.4, -0.4)) $\n",
    "                    atop (translate (r2 (-1.6, 1.3)) $ text \"F\") $\n",
    "                         square 2.5\n",
    "                         <> (atop (translate (r2 (-0.8, 0.6)) $ text \"F\") (node s)))\n",
    "         <> square 3.5\n",
    "\n",
    "dJoin = centerX (atPoints [P $ r2 (0, 0), P $ r2 (5, 0)] [bbox \"a\" # named \"b\", box \"a\" # named \"a\"])\n",
    "        # connectOutside \"b\" \"a\"\n",
    "        <> rect 9 7 # dashingG [0.2, 0.05] 0\n",
    "        <> translate (r2 (-3.5, 3)) (text \"join\" # font \"courier\" # fontSize large)\n",
    "        <> rect 10 7.5 # lc white\n",
    "\n",
    "diagram $ dReturn === dJoin"
   ]
  },
  {
   "cell_type": "markdown",
   "metadata": {},
   "source": [
    "## OK, But Why Monads?"
   ]
  },
  {
   "cell_type": "markdown",
   "metadata": {},
   "source": [
    "Monads are just one abstraction we can apply to our code, but they end up being useful for a wide variety of things."
   ]
  },
  {
   "cell_type": "markdown",
   "metadata": {},
   "source": [
    "### The `Maybe` Monad"
   ]
  },
  {
   "cell_type": "markdown",
   "metadata": {},
   "source": [
    "```haskell\n",
    "data Maybe a = Just a\n",
    "             | Nothing\n",
    "\n",
    "instance Functor Maybe where\n",
    "    fmap f (Just a) = Just (f a)\n",
    "    fmap f Nothing = Nothing\n",
    "\n",
    "instance Monad Maybe where\n",
    "    return = Just\n",
    "    \n",
    "    (Just x) >>= f = Just (f x)\n",
    "    Nothing >>= f = Nothing\n",
    "```"
   ]
  },
  {
   "cell_type": "code",
   "execution_count": null,
   "metadata": {
    "collapsed": false
   },
   "outputs": [],
   "source": [
    "import Data.List (find)\n",
    ":t find"
   ]
  },
  {
   "cell_type": "code",
   "execution_count": null,
   "metadata": {
    "collapsed": false
   },
   "outputs": [],
   "source": [
    "find even [1,3..9]"
   ]
  },
  {
   "cell_type": "code",
   "execution_count": null,
   "metadata": {
    "collapsed": false
   },
   "outputs": [],
   "source": [
    "find (> 5) [1..]"
   ]
  },
  {
   "cell_type": "code",
   "execution_count": null,
   "metadata": {
    "collapsed": false
   },
   "outputs": [],
   "source": [
    "l1 = [3,5..11]\n",
    "l2 = [2,4..20]\n",
    "\n",
    "find odd l1   >>=   \\x -> find (> x^2) l2"
   ]
  },
  {
   "cell_type": "markdown",
   "metadata": {},
   "source": [
    "### The `IO` Monad"
   ]
  },
  {
   "cell_type": "markdown",
   "metadata": {},
   "source": [
    "Another place where monads have turned out to be very useful is in structuring IO operations.\n",
    "\n",
    "**Note**: The following is totally wrong, but useful for understanding.\n",
    "```haskell\n",
    "type IO a = RealWorld -> (a, RealWorld)\n",
    "\n",
    "instance Functor IO where\n",
    "    fmap f io = \\world -> let (x, world') = io world in (f x, world')\n",
    "\n",
    "instance Monad IO where\n",
    "    return x  =  \\world -> (x, world)\n",
    "    io1 >>= f  =  \\world -> let (x', world') = io1 world in f x' world'\n",
    "```"
   ]
  },
  {
   "cell_type": "code",
   "execution_count": null,
   "metadata": {
    "collapsed": false
   },
   "outputs": [],
   "source": [
    ":t putStrLn"
   ]
  },
  {
   "cell_type": "code",
   "execution_count": null,
   "metadata": {
    "collapsed": false
   },
   "outputs": [],
   "source": [
    ":t getLine"
   ]
  },
  {
   "cell_type": "code",
   "execution_count": null,
   "metadata": {
    "collapsed": false
   },
   "outputs": [],
   "source": [
    ":t getLine >>= putStrLn"
   ]
  },
  {
   "cell_type": "code",
   "execution_count": null,
   "metadata": {
    "collapsed": false
   },
   "outputs": [],
   "source": [
    ":t getLine >>= (\\l1 -> getLine >>= (\\l2 -> putStrLn (l1 ++ l2)))"
   ]
  },
  {
   "cell_type": "markdown",
   "metadata": {},
   "source": [
    "This is going to get awkward really fast... Fortunately we have some syntactic sugar for this!"
   ]
  },
  {
   "cell_type": "markdown",
   "metadata": {},
   "source": [
    "### `do` Notation, or Why Haskell is Also Imperative"
   ]
  },
  {
   "cell_type": "code",
   "execution_count": null,
   "metadata": {
    "collapsed": false
   },
   "outputs": [],
   "source": [
    "echo2 = do\n",
    "    l1 <- getLine\n",
    "    l2 <- getLine\n",
    "    putStrLn (l1 ++ l2)\n",
    "\n",
    ":t echo2"
   ]
  },
  {
   "cell_type": "markdown",
   "metadata": {},
   "source": [
    "But it doesn't stop there! Because this notation only requires a monad to work, we can use it for any monad!"
   ]
  },
  {
   "cell_type": "code",
   "execution_count": null,
   "metadata": {
    "collapsed": false
   },
   "outputs": [],
   "source": [
    "maybeOddSqr l1 l2 = do\n",
    "    a <- find odd l1\n",
    "    find (> a^2) l2\n",
    "    \n",
    "maybeOddSqr [2, 4, 6, 5] [1, 3 .. 30]"
   ]
  },
  {
   "cell_type": "markdown",
   "metadata": {},
   "source": [
    "We can even write code that doesn't care what monad we're using:"
   ]
  },
  {
   "cell_type": "code",
   "execution_count": null,
   "metadata": {
    "collapsed": false
   },
   "outputs": [],
   "source": [
    "mystery l1 l2 = do\n",
    "    a <- l1\n",
    "    b <- l2\n",
    "    return (a + b)\n",
    "\n",
    ":t mystery"
   ]
  },
  {
   "cell_type": "code",
   "execution_count": null,
   "metadata": {
    "collapsed": false
   },
   "outputs": [],
   "source": [
    "mystery (Just 3) (Just 4)"
   ]
  },
  {
   "cell_type": "code",
   "execution_count": null,
   "metadata": {
    "collapsed": false
   },
   "outputs": [],
   "source": [
    "mystery (fmap read getLine) (fmap read getLine)"
   ]
  },
  {
   "cell_type": "code",
   "execution_count": null,
   "metadata": {
    "collapsed": false
   },
   "outputs": [],
   "source": [
    "mystery [1..5] [2,4,6]"
   ]
  },
  {
   "cell_type": "markdown",
   "metadata": {},
   "source": [
    "## Beyond Monads"
   ]
  },
  {
   "cell_type": "markdown",
   "metadata": {},
   "source": [
    " * **More Typeclasses**: there are a lot of these... ![](https://wiki.haskell.org/wikiupload/d/df/Typeclassopedia-diagram.png)\n",
    " * **Monad Transformers**: what if we want a structure that combines functionality from different monads?\n",
    " * **Software Transactional Memory**: a system for updating data structures in a fully transactional way. Haskell provides probably the most elegant implementation.\n",
    " * **Functional Data Structures**: to be efficient, every intermediate stage of a data structure needs to be used in the final product, unmodified. This results in some highly creative, interesting, and even useful designs.\n",
    " * **Exploiting Purity for Parallel Processing**: pretty simple in principle; because there are no side-effects, pure computations can be split off and run in parallel without any additional programmer work.\n",
    " * **Parsers, Applicative and Monadic**: applicatives and monads provide fitting abstractions for context-free and contextual grammars, respectively. These classes allow us to build efficient, well-typed parsers into our haskell programs."
   ]
  },
  {
   "cell_type": "code",
   "execution_count": null,
   "metadata": {
    "collapsed": true
   },
   "outputs": [],
   "source": []
  }
 ],
 "metadata": {
  "kernelspec": {
   "display_name": "Haskell",
   "language": "haskell",
   "name": "haskell"
  },
  "language_info": {
   "codemirror_mode": "ihaskell",
   "file_extension": ".hs",
   "name": "haskell",
   "version": "7.10.3"
  }
 },
 "nbformat": 4,
 "nbformat_minor": 0
}
